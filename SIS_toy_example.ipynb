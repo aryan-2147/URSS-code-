{
 "cells": [
  {
   "cell_type": "code",
   "execution_count": 6,
   "metadata": {},
   "outputs": [],
   "source": [
    "import numpy as np\n",
    "from numpy import random\n",
    "from numpy.random import choice\n",
    "\n",
    "def normpdf(x, mu, sigma):\n",
    "    return np.exp(-0.5 * ((x - mu) / sigma)**2) / (np.sqrt(2 * np.pi) * sigma)\n",
    "\n",
    "def multinomial_resampling(weights):\n",
    "    N = len(weights)\n",
    "    indices = np.arange(N)\n",
    "    resampled_indices = choice(indices, size=N, replace=True, p=weights)\n",
    "    return resampled_indices\n",
    "\n",
    "def tractable_smc_fredholm(N, f_1, Y, epsilon):\n",
    "    # N is the number of particles \n",
    "    # f_1 is an N-dimensional initialization distribution\n",
    "    # Y is an array of sample observations\n",
    "    # epsilon is the standard deviation of the Gaussian smoothing kernel\n",
    "\n",
    "    # Number of observations\n",
    "    n = len(Y)\n",
    "\n",
    "    # Initialization\n",
    "    X_particles = np.zeros((n, N))\n",
    "    Y_particles = np.zeros((n, N))\n",
    "    weights = np.zeros((n, N))\n",
    "\n",
    "    # at time n=1\n",
    "    # Initial distribution is given as the input \n",
    "    X_particles[0, :] = f_1\n",
    "    # Uniform weights are given as the input\n",
    "    weights[0, :] = np.ones(N) / N \n",
    "    Y_particles[0, :] = Y\n",
    "\n",
    "    # at time n>1\n",
    "    for i in range(1, n):\n",
    "        # Markov Chain step\n",
    "        X_particles[i, :] = X_particles[i-1, :] + epsilon * np.random.standard_normal(N)\n",
    "\n",
    "        weights[i, :] = weights[i-1, :]\n",
    "        # draw samples from Y \n",
    "        hN = np.zeros(N) \n",
    "        for j in range(0, N):\n",
    "            hN[j] = np.mean(weights[i, :] * normpdf(Y[j], X_particles[i, :], 0.045))\n",
    "\n",
    "        # calculate potentials\n",
    "        potential = np.zeros(N)\n",
    "        g = normpdf(Y, X_particles[i, :], 0.045)\n",
    "        potential[hN != 0] = g[hN != 0] / hN[hN != 0]\n",
    "        potential[hN == 0] = 0\n",
    "        # update and normalize weights \n",
    "        weights[i, :] = weights[i, :] * g\n",
    "\n",
    "        weights[i, :] = weights[i, :] / np.sum(weights[i, :])\n",
    "\n",
    "        # Resampling particles with updated weights\n",
    "        Y_particles[i, :] = choice(Y, N, replace=False)\n",
    "        \n",
    "        # Effective Sample Size (ESS)\n",
    "        ESS = 1 / np.sum(weights[i, :]**2)\n",
    "        \n",
    "        # Resampling\n",
    "        if ESS < N / 2:\n",
    "            indices = multinomial_resampling(weights[i, :])\n",
    "            X_particles[i, :] = X_particles[i, indices]\n",
    "            weights[i, :] = np.ones(N) / N\n",
    "        else:\n",
    "            X_particles[i, :] = X_particles[i-1, :]\n",
    "            weights[i, :] = weights[i-1, :]\n",
    "\n",
    "    return X_particles\n",
    "\n",
    " \n",
    "\n"
   ]
  },
  {
   "cell_type": "code",
   "execution_count": 7,
   "metadata": {},
   "outputs": [],
   "source": [
    "target_data= tractable_smc_fredholm(1000, random.standard_normal(1000), 0.5 + np.sqrt(0.088) * random.standard_normal(1000), 0.01)"
   ]
  },
  {
   "cell_type": "code",
   "execution_count": 8,
   "metadata": {},
   "outputs": [
    {
     "data": {
      "image/png": "[encoded data removed]",
      "text/plain": [
       "<Figure size 640x480 with 1 Axes>"
      ]
     },
     "metadata": {},
     "output_type": "display_data"
    }
   ],
   "source": [
    "particle_1 = target_data[0,:]\n",
    "import matplotlib.pyplot as plt\n",
    "import numpy as np\n",
    "\n",
    "# Sample data as a NumPy array\n",
    "data = particle_1\n",
    "\n",
    "# Define bin size\n",
    "bin_size = 0.5\n",
    "\n",
    "# Compute bin edges\n",
    "bins = np.arange(min(data), max(data) + bin_size, bin_size)\n",
    "\n",
    "# Plot histogram\n",
    "plt.hist(data, bins=bins, edgecolor='black')\n",
    "\n",
    "# Set labels and title\n",
    "plt.xlabel('Value')\n",
    "plt.ylabel('Frequency')\n",
    "plt.title('Histogram of our Algorithm')\n",
    "\n",
    "# Show the plot\n",
    "plt.show()"
   ]
  },
  {
   "cell_type": "code",
   "execution_count": null,
   "metadata": {},
   "outputs": [],
   "source": []
  }
 ],
 "metadata": {
  "kernelspec": {
   "display_name": "Python 3",
   "language": "python",
   "name": "python3"
  },
  "language_info": {
   "codemirror_mode": {
    "name": "ipython",
    "version": 3
   },
   "file_extension": ".py",
   "mimetype": "text/x-python",
   "name": "python",
   "nbconvert_exporter": "python",
   "pygments_lexer": "ipython3",
   "version": "3.11.2"
  },
  "orig_nbformat": 4
 },
 "nbformat": 4,
 "nbformat_minor": 2
}
